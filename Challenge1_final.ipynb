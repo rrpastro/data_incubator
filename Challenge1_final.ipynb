{
 "cells": [
  {
   "cell_type": "code",
   "execution_count": 1,
   "metadata": {
    "collapsed": false
   },
   "outputs": [
    {
     "name": "stdout",
     "output_type": "stream",
     "text": [
      "4.12038244116\n",
      "2.31159004553\n"
     ]
    }
   ],
   "source": [
    "import numpy as np\n",
    "import matplotlib.pyplot as plt\n",
    "%matplotlib inline\n",
    "\n",
    "#For my toy model, I represent the honeycomb polygon centers by a two dimensional matrix where each element \n",
    "#has eight nearest neighbors,but a honeycomb polygon has only six adjacent hexagons.\n",
    "#Due to this, to make life easy, I exclude a pair of nearest neighbors in same pattern in each trial\n",
    "#I have restricted the bee to jump to cells [i-1,j-1] and [i+1,j+1] in each trial,\n",
    "\n",
    "#The mean and standard deviation will be reported for the average distances of 16 trials and \n",
    "#repeated for 1000 times using the central limit theorem \n",
    "\n",
    "n = 16 #number of trials \n",
    "\n",
    "#Declare the size of matrix to make the computation faster\n",
    "xx = 2*n + 5 #number of rows of matrix, allow enough space in boundary after n trials\n",
    "yy = 2*n + 5 # number of columns of matrix\n",
    "\n",
    "#Create a matrix whose elements represent the position of bee inside a hexagon with unique ID \n",
    "a = np.random.random((xx,yy)) \n",
    "\n",
    "#Declare the starting position\n",
    "start_x = 16 #Change it to 32 for n = 64 steps\n",
    "start_y = 16 #change it to 32 for n=64 steps\n",
    "\n",
    "#Define an array to keep record of the distances\n",
    "distance = np.zeros(1000)\n",
    "distance_cond = [] #collect the distances using the conditional probability\n",
    "\n",
    "for x in range(1000):\n",
    "    #Array to keep track of the position of bee\n",
    "    bee_position = np.zeros(n)\n",
    "    #initialize the position of bee from the center hexagongonal grid\n",
    "    ii = start_x #it helps to avoid the boundary problems\n",
    "    jj = start_y\n",
    "    \n",
    "    for p in range(n):\n",
    "        i = ii\n",
    "        j = jj\n",
    "        \n",
    "        #The maximum distance the bee can go in n steps is n cells in both vertical and horizontal direction\n",
    "        #so make sure the bee is inside the desired boundary to avoid errors\n",
    "        if ((i < 2*n+4) & (j<2*n+4)): #check if the \n",
    "            #print(ii,jj)\n",
    "            #There are four pairs of adjacent cells, choose only adj 3 pairs,disregard one\n",
    "            adj_cells = np.array([a[i-1,j],a[i+1,j],a[i,j-1],a[i,j+1],a[i-1,j+1],a[i+1,j-1]])\n",
    "            #Here I didn't take into account the pairs a[i-1,j-1] and a[i+1,j+1]\n",
    "        \n",
    "        #choose a random cell to jump using a random number generator between 0 and 5\n",
    "        #This is because the bee has equal probability to go to any adjacent polygons\n",
    "        a1 = np.random.randint(0,6,1)\n",
    "        b1 = np.int(a1)\n",
    "        \n",
    "        #new element of the matrix which represents the center of polygon \n",
    "        #where the bee jumps in the next step\n",
    "        a1c = adj_cells[b1]\n",
    "        \n",
    "        #keep track of the element in matrix to know where the bee arrived\n",
    "        bee_position[p] = a1c\n",
    "        \n",
    "        for q in range(xx):\n",
    "            for r in range(yy):\n",
    "                if a[q,r] == a1c:\n",
    "                    ii = q\n",
    "                    jj = r\n",
    "           \n",
    "    #After the end of each specific trials like 16, last element in bee_position array is the \n",
    "    #final position of the bee\n",
    "    #print(bee_position[-1])\n",
    "    for m in range(xx):\n",
    "        for l in range(yy):\n",
    "            if a[m,l] == bee_position[-1]:\n",
    "                x_pos = m #the row number\n",
    "                y_pos = l # the column number\n",
    "    \n",
    "    # x_pos and y_pos define the final position of the bee after n trials\n",
    "    #Calculate the distance from the original position\n",
    "    #print(ii,jj)\n",
    "    d = np.sqrt((x_pos - start_x)**2  + (y_pos - start_y)**2)\n",
    "    \n",
    "    distance[x] = d\n",
    "\n",
    "    #print(distance)\n",
    "#Using the central limit theorem\n",
    "print(np.mean(distance))\n",
    "\n",
    "print(np.std(distance))\n",
    "\n",
    "    \n",
    "    \n",
    "    \n",
    "    \n",
    "    \n",
    "    \n",
    "    \n",
    "    \n",
    "    \n",
    "    "
   ]
  },
  {
   "cell_type": "code",
   "execution_count": 2,
   "metadata": {
    "collapsed": false
   },
   "outputs": [
    {
     "data": {
      "text/plain": [
       "(array([  99.,  184.,  208.,  235.,  106.,   82.,   52.,   23.,    8.,    3.]),\n",
       " array([  0.        ,   1.28062485,   2.56124969,   3.84187454,\n",
       "          5.12249939,   6.40312424,   7.68374908,   8.96437393,\n",
       "         10.24499878,  11.52562363,  12.80624847]),\n",
       " <a list of 10 Patch objects>)"
      ]
     },
     "execution_count": 2,
     "metadata": {},
     "output_type": "execute_result"
    },
    {
     "data": {
      "image/png": "[encoded data removed]",
      "text/plain": [
       "<matplotlib.figure.Figure at 0x1059cff98>"
      ]
     },
     "metadata": {},
     "output_type": "display_data"
    }
   ],
   "source": [
    "plt.hist(distance)\n",
    "     \n"
   ]
  },
  {
   "cell_type": "code",
   "execution_count": 3,
   "metadata": {
    "collapsed": false
   },
   "outputs": [
    {
     "name": "stdout",
     "output_type": "stream",
     "text": [
      "0.074 0.211 4.388625592417061 -3.3886255924170614\n",
      "0.35071090047393366\n"
     ]
    }
   ],
   "source": [
    "x8gr = distance >=8\n",
    "x8less = distance <8\n",
    "x6 = distance>=6\n",
    "\n",
    "distance_geq_8 = distance[x8gr] #distance greateer or equal to 8\n",
    "distance_geq_6 = distance[x6] #distance greater or equal to 6\n",
    "distance_less_8 = distance[x8less] #distance less than 8\n",
    " \n",
    "#Probability that the distance is at least 8\n",
    "p8 = len(distance_geq_8)/len(distance)\n",
    "\n",
    "#Probability that the distance is at least 6\n",
    "p6 = len(distance_geq_6)/len(distance)\n",
    "\n",
    "#probability that the distance is less than 8 given it is at least 6 is:\n",
    "p8_given6 = len(distance_less_8)/len(distance_geq_6)\n",
    "\n",
    "#probability that the distance is at least 8 given it is at least 6 is \n",
    "p_atleast8 = 1 - p8_given6\n",
    "#print(p8most_given6)\n",
    "\n",
    "print(p8,p6,p8_given6,p_atleast8)\n",
    "print(len(distance_geq_8)/len(distance_geq_6))"
   ]
  },
  {
   "cell_type": "code",
   "execution_count": 4,
   "metadata": {
    "collapsed": false
   },
   "outputs": [
    {
     "name": "stdout",
     "output_type": "stream",
     "text": [
      "8.21934339671\n",
      "4.62756892191\n"
     ]
    }
   ],
   "source": [
    "n = 64 #number of trials \n",
    "\n",
    "#Declare the size of matrix to make the computation faster\n",
    "xx = 2*n + 5 #number of rows of matrix, allow enough space in boundary after n trials\n",
    "yy = 2*n + 5 # number of columns of matrix\n",
    "\n",
    "#Create a matrix whose elements represent the position of bee inside a hexagon with unique ID \n",
    "a = np.random.random((xx,yy)) \n",
    "\n",
    "#starting positions:\n",
    "#start_x = int((xx-5)/2)\n",
    "#start_y = int((yy-5)/2)\n",
    "\n",
    "start_x = 32\n",
    "start_y = 32\n",
    "\n",
    "#Define an array to keep record of the distances\n",
    "distance = np.zeros(1000)\n",
    "\n",
    "for x in range(1000):\n",
    "    #Array to keep track of the position of bee\n",
    "    bee_position = np.zeros(n)\n",
    "    #initialize the position of bee from the center hexagongonal grid\n",
    "    ii = start_x #it helps to avoid the boundary problems\n",
    "    jj = start_y\n",
    "    \n",
    "    for p in range(n):\n",
    "        i = ii\n",
    "        j = jj\n",
    "        \n",
    "        #The maximum distance the bee can go in n steps is n cells in both vertical and horizontal direction\n",
    "        #so make sure the bee is inside the desired boundary to avoid errors\n",
    "        if ((i < 2*n+4) & (j<2*n+4)): #check if the \n",
    "            #print(ii,jj)\n",
    "            #There are four pairs of adjacent cells, choose only adj 3 pairs,disregard one\n",
    "            adj_cells = np.array([a[i-1,j],a[i+1,j],a[i,j-1],a[i,j+1],a[i-1,j+1],a[i+1,j-1]])\n",
    "            #Here I didn't take into account the pairs a[i-1,j-1] and a[i+1,j+1]\n",
    "        \n",
    "        #choose a random cell to jump using a random number generator between 0 and 5\n",
    "        #This is because the bee has equal probability to go to any adjacent polygons\n",
    "        a1 = np.random.randint(0,6,1)\n",
    "        b1 = np.int(a1)\n",
    "        \n",
    "        #new element of the matrix which represents the center of polygon \n",
    "        #where the bee jumps in the next step\n",
    "        a1c = adj_cells[b1]\n",
    "        \n",
    "        #keep track of the element in matrix to know where the bee arrived\n",
    "        bee_position[p] = a1c\n",
    "        \n",
    "        for q in range(xx):\n",
    "            for r in range(yy):\n",
    "                if a[q,r] == a1c:\n",
    "                    ii = q\n",
    "                    jj = r\n",
    "           \n",
    "    #After the end of each specific trials like 16, last element in bee_position array is the \n",
    "    #final position of the bee\n",
    "    #print(bee_position[-1])\n",
    "    for m in range(xx):\n",
    "        for l in range(yy):\n",
    "            if a[m,l] == bee_position[-1]:\n",
    "                x_pos = m #the row number\n",
    "                y_pos = l # the column number\n",
    "    \n",
    "    # x_pos and y_pos define the final position of the bee after n trials\n",
    "    #Calculate the distance from the original position\n",
    "    #print(ii,jj)\n",
    "    d = np.sqrt((x_pos - start_x)**2  + (y_pos - start_y)**2)\n",
    "    \n",
    "    distance[x] = d\n",
    "\n",
    "    #print(distance)\n",
    "print(np.mean(distance))\n",
    "\n",
    "print(np.std(distance))\n"
   ]
  },
  {
   "cell_type": "code",
   "execution_count": null,
   "metadata": {
    "collapsed": false
   },
   "outputs": [],
   "source": [
    "plt.hist(distance)"
   ]
  },
  {
   "cell_type": "code",
   "execution_count": null,
   "metadata": {
    "collapsed": true
   },
   "outputs": [],
   "source": []
  }
 ],
 "metadata": {
  "anaconda-cloud": {},
  "kernelspec": {
   "display_name": "Python [default]",
   "language": "python",
   "name": "python3"
  },
  "language_info": {
   "codemirror_mode": {
    "name": "ipython",
    "version": 3
   },
   "file_extension": ".py",
   "mimetype": "text/x-python",
   "name": "python",
   "nbconvert_exporter": "python",
   "pygments_lexer": "ipython3",
   "version": "3.5.2"
  }
 },
 "nbformat": 4,
 "nbformat_minor": 1
}
